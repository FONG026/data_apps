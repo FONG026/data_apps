{
 "cells": [
  {
   "cell_type": "code",
   "execution_count": 6,
   "id": "38d85cfe",
   "metadata": {},
   "outputs": [],
   "source": [
    "import pandas as pd\n",
    "from sklearn.cluster import KMeans\n",
    "from sklearn.preprocessing import StandardScaler"
   ]
  },
  {
   "cell_type": "code",
   "execution_count": 7,
   "id": "69846c32",
   "metadata": {},
   "outputs": [],
   "source": [
    "# importation dataset \n",
    "file1 = \"data/product_category_name_translation.csv\"\n",
    "file2 = \"data/olist_products_dataset.csv\"\n",
    "file3 = \"data/olist_order_items_dataset.csv\""
   ]
  },
  {
   "cell_type": "code",
   "execution_count": 8,
   "id": "a255b91c",
   "metadata": {},
   "outputs": [],
   "source": [
    "dataset1 = pd.read_csv(file1)\n",
    "dataset2 = pd.read_csv(file2)\n",
    "dataset3 = pd.read_csv(file3)"
   ]
  },
  {
   "cell_type": "code",
   "execution_count": 38,
   "id": "60c4b6ff",
   "metadata": {},
   "outputs": [
    {
     "name": "stdout",
     "output_type": "stream",
     "text": [
      "    product_category_name product_category_name_english\n",
      "0            beleza_saude                 health_beauty\n",
      "1  informatica_acessorios         computers_accessories\n",
      "2              automotivo                          auto\n",
      "3         cama_mesa_banho                bed_bath_table\n",
      "4        moveis_decoracao               furniture_decor\n"
     ]
    }
   ],
   "source": [
    "print(dataset1.head())"
   ]
  },
  {
   "cell_type": "code",
   "execution_count": 39,
   "id": "889bf858",
   "metadata": {},
   "outputs": [
    {
     "name": "stdout",
     "output_type": "stream",
     "text": [
      "                         product_id  product_category_name  \\\n",
      "0  1e9e8ef04dbcff4541ed26657ea517e5             perfumaria   \n",
      "1  3aa071139cb16b67ca9e5dea641aaa2f                  artes   \n",
      "2  96bd76ec8810374ed1b65e291975717f          esporte_lazer   \n",
      "3  cef67bcfe19066a932b7673e239eb23d                  bebes   \n",
      "4  9dc1a7de274444849c219cff195d0b71  utilidades_domesticas   \n",
      "\n",
      "   product_name_lenght  product_description_lenght  product_photos_qty  \\\n",
      "0                 40.0                       287.0                 1.0   \n",
      "1                 44.0                       276.0                 1.0   \n",
      "2                 46.0                       250.0                 1.0   \n",
      "3                 27.0                       261.0                 1.0   \n",
      "4                 37.0                       402.0                 4.0   \n",
      "\n",
      "   product_weight_g  product_length_cm  product_height_cm  product_width_cm  \n",
      "0             225.0               16.0               10.0              14.0  \n",
      "1            1000.0               30.0               18.0              20.0  \n",
      "2             154.0               18.0                9.0              15.0  \n",
      "3             371.0               26.0                4.0              26.0  \n",
      "4             625.0               20.0               17.0              13.0  \n"
     ]
    }
   ],
   "source": [
    "print(dataset2.head())"
   ]
  },
  {
   "cell_type": "code",
   "execution_count": 40,
   "id": "7db74401",
   "metadata": {},
   "outputs": [],
   "source": [
    "jointure1 = pd.merge(dataset1, dataset2, on='product_category_name', how='inner')"
   ]
  },
  {
   "cell_type": "code",
   "execution_count": 41,
   "id": "e9ff47be",
   "metadata": {},
   "outputs": [
    {
     "name": "stdout",
     "output_type": "stream",
     "text": [
      "  product_category_name product_category_name_english  \\\n",
      "0          beleza_saude                 health_beauty   \n",
      "1          beleza_saude                 health_beauty   \n",
      "2          beleza_saude                 health_beauty   \n",
      "3          beleza_saude                 health_beauty   \n",
      "4          beleza_saude                 health_beauty   \n",
      "\n",
      "                         product_id  product_name_lenght  \\\n",
      "0  e3e020af31d4d89d2602272b315c3f6e                 58.0   \n",
      "1  c5d8079278e912d7e3b6beb48ecb56e8                 60.0   \n",
      "2  36555a2f528d7b2a255c504191445d39                 51.0   \n",
      "3  e586ebb6022265ae1eea38f46ffe3ead                 40.0   \n",
      "4  75b4372e69a42f8ae1d908c076f547b2                 22.0   \n",
      "\n",
      "   product_description_lenght  product_photos_qty  product_weight_g  \\\n",
      "0                      1987.0                 3.0              75.0   \n",
      "1                       330.0                 1.0            1300.0   \n",
      "2                      1069.0                 1.0            1467.0   \n",
      "3                      1469.0                 3.0            1050.0   \n",
      "4                      1313.0                 1.0             938.0   \n",
      "\n",
      "   product_length_cm  product_height_cm  product_width_cm  \n",
      "0               21.0                7.0              13.0  \n",
      "1               19.0               28.0              17.0  \n",
      "2               23.0               16.0              20.0  \n",
      "3               18.0               21.0              27.0  \n",
      "4               29.0               22.0              23.0  \n"
     ]
    }
   ],
   "source": [
    "print(jointure1.head())"
   ]
  },
  {
   "cell_type": "code",
   "execution_count": 42,
   "id": "80a1f477",
   "metadata": {},
   "outputs": [],
   "source": [
    "jointure1.to_csv('data/jointure1.csv', index=False)"
   ]
  },
  {
   "cell_type": "code",
   "execution_count": 43,
   "id": "92342086",
   "metadata": {},
   "outputs": [
    {
     "name": "stdout",
     "output_type": "stream",
     "text": [
      "                           order_id  order_item_id  \\\n",
      "0  00010242fe8c5a6d1ba2dd792cb16214              1   \n",
      "1  00018f77f2f0320c557190d7a144bdd3              1   \n",
      "2  000229ec398224ef6ca0657da4fc703e              1   \n",
      "3  00024acbcdf0a6daa1e931b038114c75              1   \n",
      "4  00042b26cf59d7ce69dfabb4e55b4fd9              1   \n",
      "\n",
      "                         product_id                         seller_id  \\\n",
      "0  4244733e06e7ecb4970a6e2683c13e61  48436dade18ac8b2bce089ec2a041202   \n",
      "1  e5f2d52b802189ee658865ca93d83a8f  dd7ddc04e1b6c2c614352b383efe2d36   \n",
      "2  c777355d18b72b67abbeef9df44fd0fd  5b51032eddd242adc84c38acab88f23d   \n",
      "3  7634da152a4610f1595efa32f14722fc  9d7a1d34a5052409006425275ba1c2b4   \n",
      "4  ac6c3623068f30de03045865e4e10089  df560393f3a51e74553ab94004ba5c87   \n",
      "\n",
      "   shipping_limit_date   price  freight_value  \n",
      "0  2017-09-19 09:45:35   58.90          13.29  \n",
      "1  2017-05-03 11:05:13  239.90          19.93  \n",
      "2  2018-01-18 14:48:30  199.00          17.87  \n",
      "3  2018-08-15 10:10:18   12.99          12.79  \n",
      "4  2017-02-13 13:57:51  199.90          18.14  \n"
     ]
    }
   ],
   "source": [
    "print(dataset3.head())"
   ]
  },
  {
   "cell_type": "code",
   "execution_count": 44,
   "id": "a9aca4a4",
   "metadata": {},
   "outputs": [],
   "source": [
    "jointure2 = pd.merge(dataset3, jointure1, on='product_id', how='inner')"
   ]
  },
  {
   "cell_type": "code",
   "execution_count": 45,
   "id": "3fbd1a4d",
   "metadata": {},
   "outputs": [
    {
     "name": "stdout",
     "output_type": "stream",
     "text": [
      "                           order_id  order_item_id  \\\n",
      "0  00010242fe8c5a6d1ba2dd792cb16214              1   \n",
      "1  130898c0987d1801452a8ed92a670612              1   \n",
      "2  532ed5e14e24ae1f0d735b91524b98b9              1   \n",
      "3  6f8c31653edb8c83e1a739408b5ff750              1   \n",
      "4  7d19f4ef4d04461989632411b7e588b9              1   \n",
      "\n",
      "                         product_id                         seller_id  \\\n",
      "0  4244733e06e7ecb4970a6e2683c13e61  48436dade18ac8b2bce089ec2a041202   \n",
      "1  4244733e06e7ecb4970a6e2683c13e61  48436dade18ac8b2bce089ec2a041202   \n",
      "2  4244733e06e7ecb4970a6e2683c13e61  48436dade18ac8b2bce089ec2a041202   \n",
      "3  4244733e06e7ecb4970a6e2683c13e61  48436dade18ac8b2bce089ec2a041202   \n",
      "4  4244733e06e7ecb4970a6e2683c13e61  48436dade18ac8b2bce089ec2a041202   \n",
      "\n",
      "   shipping_limit_date  price  freight_value product_category_name  \\\n",
      "0  2017-09-19 09:45:35   58.9          13.29            cool_stuff   \n",
      "1  2017-07-05 02:44:11   55.9          17.96            cool_stuff   \n",
      "2  2018-05-23 10:56:25   64.9          18.33            cool_stuff   \n",
      "3  2017-08-07 18:55:08   58.9          16.17            cool_stuff   \n",
      "4  2017-08-16 22:05:11   58.9          13.29            cool_stuff   \n",
      "\n",
      "  product_category_name_english  product_name_lenght  \\\n",
      "0                    cool_stuff                 58.0   \n",
      "1                    cool_stuff                 58.0   \n",
      "2                    cool_stuff                 58.0   \n",
      "3                    cool_stuff                 58.0   \n",
      "4                    cool_stuff                 58.0   \n",
      "\n",
      "   product_description_lenght  product_photos_qty  product_weight_g  \\\n",
      "0                       598.0                 4.0             650.0   \n",
      "1                       598.0                 4.0             650.0   \n",
      "2                       598.0                 4.0             650.0   \n",
      "3                       598.0                 4.0             650.0   \n",
      "4                       598.0                 4.0             650.0   \n",
      "\n",
      "   product_length_cm  product_height_cm  product_width_cm  \n",
      "0               28.0                9.0              14.0  \n",
      "1               28.0                9.0              14.0  \n",
      "2               28.0                9.0              14.0  \n",
      "3               28.0                9.0              14.0  \n",
      "4               28.0                9.0              14.0  \n"
     ]
    }
   ],
   "source": [
    "print(jointure2.head())"
   ]
  },
  {
   "cell_type": "code",
   "execution_count": 46,
   "id": "1594566b",
   "metadata": {},
   "outputs": [],
   "source": [
    "jointure2.to_csv('C:\\\\Users\\\\BIRUSSAMA EL KANA\\\\Documents\\\\Hetic\\\\projet 11032024\\\\data_apps-master\\\\data\\\\jointure2.csv', index=False)"
   ]
  },
  {
   "cell_type": "code",
   "execution_count": null,
   "id": "75de5928",
   "metadata": {},
   "outputs": [],
   "source": []
  }
 ],
 "metadata": {
  "kernelspec": {
   "display_name": "Python 3 (ipykernel)",
   "language": "python",
   "name": "python3"
  },
  "language_info": {
   "codemirror_mode": {
    "name": "ipython",
    "version": 3
   },
   "file_extension": ".py",
   "mimetype": "text/x-python",
   "name": "python",
   "nbconvert_exporter": "python",
   "pygments_lexer": "ipython3",
   "version": "3.9.13"
  }
 },
 "nbformat": 4,
 "nbformat_minor": 5
}
